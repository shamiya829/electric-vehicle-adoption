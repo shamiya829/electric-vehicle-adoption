{
  "nbformat": 4,
  "nbformat_minor": 0,
  "metadata": {
    "colab": {
      "provenance": [],
      "authorship_tag": "ABX9TyOv4IVXYGVtVjMDeVKPx3JF",
      "include_colab_link": true
    },
    "kernelspec": {
      "name": "python3",
      "display_name": "Python 3"
    },
    "language_info": {
      "name": "python"
    }
  },
  "cells": [
    {
      "cell_type": "markdown",
      "metadata": {
        "id": "view-in-github",
        "colab_type": "text"
      },
      "source": [
        "<a href=\"https://colab.research.google.com/github/shamiya829/electric-vehicle-adoption/blob/main/electric_vehicle_predictive_model.ipynb\" target=\"_parent\"><img src=\"https://colab.research.google.com/assets/colab-badge.svg\" alt=\"Open In Colab\"/></a>"
      ]
    },
    {
      "cell_type": "markdown",
      "source": [
        "# Electric Vehicle Predictive Model"
      ],
      "metadata": {
        "id": "vWRmkJj6FSsa"
      }
    },
    {
      "cell_type": "markdown",
      "source": [
        "### Import dataset & show datahead"
      ],
      "metadata": {
        "id": "zcbQRFaJF5wV"
      }
    },
    {
      "cell_type": "code",
      "source": [
        "import pandas as pd\n",
        "import numpy as np\n",
        "import scipy\n",
        "from matplotlib import pyplot as plt\n",
        "print (\"Imported all libraries successfully...\")"
      ],
      "metadata": {
        "colab": {
          "base_uri": "https://localhost:8080/"
        },
        "id": "wcNaKGQ2Fz09",
        "outputId": "171293ce-240e-4b0a-df30-a82ee4e12c04"
      },
      "execution_count": null,
      "outputs": [
        {
          "output_type": "stream",
          "name": "stdout",
          "text": [
            "Imported all libraries successfully...\n"
          ]
        }
      ]
    },
    {
      "cell_type": "code",
      "source": [
        "from IPython.core.interactiveshell import InteractiveShell\n",
        "InteractiveShell.ast_node_interactivity = \"all\"\n",
        "\n",
        "data = pd.read_csv(\"Electric_Vehicle_Population_Data.csv\")"
      ],
      "metadata": {
        "id": "jPupFo1oOgOH"
      },
      "execution_count": null,
      "outputs": []
    },
    {
      "cell_type": "code",
      "execution_count": null,
      "metadata": {
        "id": "LlfXQqX8FC9A",
        "colab": {
          "base_uri": "https://localhost:8080/"
        },
        "outputId": "4dca79bb-d672-481f-afc4-fd2c2566248f"
      },
      "outputs": [
        {
          "output_type": "stream",
          "name": "stdout",
          "text": [
            "   Model Year  Electric Range  Make_ALFA ROMEO  Make_AUDI  \\\n",
            "0        2016            14.0                0          0   \n",
            "1        2018           215.0                0          0   \n",
            "2        2014            38.0                0          0   \n",
            "3        2021            32.0                0          0   \n",
            "4        2018           215.0                0          0   \n",
            "\n",
            "   Make_AZURE DYNAMICS  Make_BENTLEY  Make_BMW  Make_CADILLAC  Make_CHEVROLET  \\\n",
            "0                    0             0         1              0               0   \n",
            "1                    0             0         0              0               0   \n",
            "2                    0             0         0              0               1   \n",
            "3                    0             0         0              0               0   \n",
            "4                    0             0         0              0               0   \n",
            "\n",
            "   Make_CHRYSLER  ...  Make_SMART  Make_SUBARU  Make_TESLA  Make_TH!NK  \\\n",
            "0              0  ...           0            0           0           0   \n",
            "1              0  ...           0            0           1           0   \n",
            "2              0  ...           0            0           0           0   \n",
            "3              1  ...           0            0           0           0   \n",
            "4              0  ...           0            0           1           0   \n",
            "\n",
            "   Make_TOYOTA  Make_VOLKSWAGEN  Make_VOLVO  Make_WHEEGO ELECTRIC CARS  \\\n",
            "0            0                0           0                          0   \n",
            "1            0                0           0                          0   \n",
            "2            0                0           0                          0   \n",
            "3            0                0           0                          0   \n",
            "4            0                0           0                          0   \n",
            "\n",
            "   Electric Vehicle Type_Battery Electric Vehicle (BEV)  \\\n",
            "0                                                  0      \n",
            "1                                                  1      \n",
            "2                                                  0      \n",
            "3                                                  0      \n",
            "4                                                  1      \n",
            "\n",
            "   Electric Vehicle Type_Plug-in Hybrid Electric Vehicle (PHEV)  \n",
            "0                                                  1             \n",
            "1                                                  0             \n",
            "2                                                  1             \n",
            "3                                                  1             \n",
            "4                                                  0             \n",
            "\n",
            "[5 rows x 44 columns]\n"
          ]
        }
      ],
      "source": [
        "from sklearn.model_selection import train_test_split\n",
        "from sklearn.preprocessing import OneHotEncoder\n",
        "import pandas as pd\n",
        "\n",
        "features = data[['Make', 'Model Year', 'Electric Range', 'Electric Vehicle Type']]\n",
        "target = data['Base MSRP']\n",
        "\n",
        "features_encoded = pd.get_dummies(features, columns=['Make', 'Electric Vehicle Type'])\n",
        "\n",
        "print(features_encoded.head())\n"
      ]
    },
    {
      "cell_type": "code",
      "source": [
        "# split data\n",
        "X_train, X_test, y_train, y_test = train_test_split(features_encoded, target, test_size=0.2, random_state=42)"
      ],
      "metadata": {
        "id": "QWNTNSlrRKRJ"
      },
      "execution_count": null,
      "outputs": []
    },
    {
      "cell_type": "code",
      "source": [
        "# use random forest regressor\n",
        "from sklearn.ensemble import RandomForestRegressor\n",
        "model = RandomForestRegressor(n_estimators=100, random_state=42)"
      ],
      "metadata": {
        "id": "PBRHuBGURPaB"
      },
      "execution_count": null,
      "outputs": []
    },
    {
      "cell_type": "code",
      "source": [
        "from sklearn.ensemble import RandomForestRegressor\n",
        "from sklearn.metrics import mean_absolute_error\n",
        "\n",
        "predictions = model.predict(X_test)\n",
        "\n",
        "mae = mean_absolute_error(y_test, predictions)\n",
        "\n",
        "print(f\"Mean Absolute Error (MAE) on test data: {mae}\")\n"
      ],
      "metadata": {
        "colab": {
          "base_uri": "https://localhost:8080/"
        },
        "id": "S9-gsAthRXbC",
        "outputId": "b5b77968-8a1a-4948-dafe-67090d193aca"
      },
      "execution_count": 35,
      "outputs": [
        {
          "output_type": "stream",
          "name": "stdout",
          "text": [
            "Mean Absolute Error (MAE) on test data: 110.75666916129502\n"
          ]
        }
      ]
    },
    {
      "cell_type": "markdown",
      "source": [
        "The MAE of 110.76 means that, on average, the model's predictions of electric vehicle MSRPs are off by about $110.76 from their actual values."
      ],
      "metadata": {
        "id": "qie4fcwYSur7"
      }
    }
  ]
}