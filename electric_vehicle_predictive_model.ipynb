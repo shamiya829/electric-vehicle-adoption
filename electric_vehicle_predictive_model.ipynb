{
  "nbformat": 4,
  "nbformat_minor": 0,
  "metadata": {
    "colab": {
      "provenance": [],
      "authorship_tag": "ABX9TyOctV+YdgAWwkL7l68e3XpP"
    },
    "kernelspec": {
      "name": "python3",
      "display_name": "Python 3"
    },
    "language_info": {
      "name": "python"
    }
  },
  "cells": [
    {
      "cell_type": "markdown",
      "source": [
        "# Electric Vehicle Predictive Model"
      ],
      "metadata": {
        "id": "vWRmkJj6FSsa"
      }
    },
    {
      "cell_type": "markdown",
      "source": [
        "### Import dataset & show datahead"
      ],
      "metadata": {
        "id": "zcbQRFaJF5wV"
      }
    },
    {
      "cell_type": "code",
      "source": [
        "import pandas as pd\n",
        "import numpy as np\n",
        "import scipy\n",
        "from matplotlib import pyplot as plt\n",
        "print (\"Imported all libraries successfully...\")"
      ],
      "metadata": {
        "colab": {
          "base_uri": "https://localhost:8080/"
        },
        "id": "wcNaKGQ2Fz09",
        "outputId": "171293ce-240e-4b0a-df30-a82ee4e12c04"
      },
      "execution_count": null,
      "outputs": [
        {
          "output_type": "stream",
          "name": "stdout",
          "text": [
            "Imported all libraries successfully...\n"
          ]
        }
      ]
    },
    {
      "cell_type": "code",
      "source": [
        "from IPython.core.interactiveshell import InteractiveShell\n",
        "InteractiveShell.ast_node_interactivity = \"all\"\n",
        "\n",
        "data = pd.read_csv(\"Electric_Vehicle_Population_Data.csv\")"
      ],
      "metadata": {
        "id": "jPupFo1oOgOH"
      },
      "execution_count": null,
      "outputs": []
    },
    {
      "cell_type": "code",
      "execution_count": null,
      "metadata": {
        "id": "LlfXQqX8FC9A",
        "colab": {
          "base_uri": "https://localhost:8080/"
        },
        "outputId": "4dca79bb-d672-481f-afc4-fd2c2566248f"
      },
      "outputs": [
        {
          "output_type": "stream",
          "name": "stdout",
          "text": [
            "   Model Year  Electric Range  Make_ALFA ROMEO  Make_AUDI  \\\n",
            "0        2016            14.0                0          0   \n",
            "1        2018           215.0                0          0   \n",
            "2        2014            38.0                0          0   \n",
            "3        2021            32.0                0          0   \n",
            "4        2018           215.0                0          0   \n",
            "\n",
            "   Make_AZURE DYNAMICS  Make_BENTLEY  Make_BMW  Make_CADILLAC  Make_CHEVROLET  \\\n",
            "0                    0             0         1              0               0   \n",
            "1                    0             0         0              0               0   \n",
            "2                    0             0         0              0               1   \n",
            "3                    0             0         0              0               0   \n",
            "4                    0             0         0              0               0   \n",
            "\n",
            "   Make_CHRYSLER  ...  Make_SMART  Make_SUBARU  Make_TESLA  Make_TH!NK  \\\n",
            "0              0  ...           0            0           0           0   \n",
            "1              0  ...           0            0           1           0   \n",
            "2              0  ...           0            0           0           0   \n",
            "3              1  ...           0            0           0           0   \n",
            "4              0  ...           0            0           1           0   \n",
            "\n",
            "   Make_TOYOTA  Make_VOLKSWAGEN  Make_VOLVO  Make_WHEEGO ELECTRIC CARS  \\\n",
            "0            0                0           0                          0   \n",
            "1            0                0           0                          0   \n",
            "2            0                0           0                          0   \n",
            "3            0                0           0                          0   \n",
            "4            0                0           0                          0   \n",
            "\n",
            "   Electric Vehicle Type_Battery Electric Vehicle (BEV)  \\\n",
            "0                                                  0      \n",
            "1                                                  1      \n",
            "2                                                  0      \n",
            "3                                                  0      \n",
            "4                                                  1      \n",
            "\n",
            "   Electric Vehicle Type_Plug-in Hybrid Electric Vehicle (PHEV)  \n",
            "0                                                  1             \n",
            "1                                                  0             \n",
            "2                                                  1             \n",
            "3                                                  1             \n",
            "4                                                  0             \n",
            "\n",
            "[5 rows x 44 columns]\n"
          ]
        }
      ],
      "source": [
        "from sklearn.model_selection import train_test_split\n",
        "from sklearn.preprocessing import OneHotEncoder\n",
        "import pandas as pd\n",
        "\n",
        "features = data[['Make', 'Model Year', 'Electric Range', 'Electric Vehicle Type']]\n",
        "target = data['Base MSRP']\n",
        "\n",
        "features_encoded = pd.get_dummies(features, columns=['Make', 'Electric Vehicle Type'])\n",
        "\n",
        "print(features_encoded.head())\n"
      ]
    },
    {
      "cell_type": "code",
      "source": [
        "# split data\n",
        "X_train, X_test, y_train, y_test = train_test_split(features_encoded, target, test_size=0.2, random_state=42)"
      ],
      "metadata": {
        "id": "QWNTNSlrRKRJ"
      },
      "execution_count": null,
      "outputs": []
    },
    {
      "cell_type": "code",
      "source": [
        "# use random forest regressor\n",
        "from sklearn.ensemble import RandomForestRegressor\n",
        "model = RandomForestRegressor(n_estimators=100, random_state=42)"
      ],
      "metadata": {
        "id": "PBRHuBGURPaB"
      },
      "execution_count": null,
      "outputs": []
    },
    {
      "cell_type": "code",
      "source": [
        "from sklearn.ensemble import RandomForestRegressor\n",
        "from sklearn.metrics import mean_absolute_error\n",
        "\n",
        "# Assuming you have already split the data and trained the model called 'model'\n",
        "# Now, use the trained model to predict the MSRP on the test set\n",
        "predictions = model.predict(X_test)\n",
        "\n",
        "# Calculate the Mean Absolute Error between the actual and predicted MSRP values\n",
        "mae = mean_absolute_error(y_test, predictions)\n",
        "\n",
        "# Output the MAE to understand the average deviation of the model's predictions from actual prices\n",
        "print(f\"Mean Absolute Error (MAE) on test data: {mae}\")\n"
      ],
      "metadata": {
        "colab": {
          "base_uri": "https://localhost:8080/"
        },
        "id": "S9-gsAthRXbC",
        "outputId": "304702cb-53e6-4eeb-ce92-9ac3ff9d68fe"
      },
      "execution_count": 33,
      "outputs": [
        {
          "output_type": "stream",
          "name": "stdout",
          "text": [
            "Mean Absolute Error (MAE) on test data: 110.75666916129502\n"
          ]
        }
      ]
    },
    {
      "cell_type": "markdown",
      "source": [
        "The MAE of 110.76 means that, on average, the model's predictions of electric vehicle MSRPs are off by about $110.76 from their actual values."
      ],
      "metadata": {
        "id": "qie4fcwYSur7"
      }
    },
    {
      "cell_type": "code",
      "source": [
        "# Assuming 'df' is your training dataframe and 'model' is your trained model\n",
        "\n",
        "# Preprocess the new data the same way as the training data\n",
        "new_vehicle_data = {\n",
        "    'Model Year': [2015],\n",
        "    'Electric Range': [250],\n",
        "    'Make': ['Tesla'],  # Using 'Make' column before one-hot encoding\n",
        "    'Electric Vehicle Type': ['Battery Electric Vehicle (BEV)']\n",
        "}\n",
        "\n",
        "# Convert to DataFrame\n",
        "new_vehicle_df = pd.DataFrame(new_vehicle_data)\n",
        "\n",
        "# Apply one-hot encoding to match training data structure\n",
        "new_vehicle_df_encoded = pd.get_dummies(new_vehicle_df)\n",
        "\n",
        "# Ensure all training features are present, filling missing ones with 0s\n",
        "final_vehicle_df = new_vehicle_df_encoded.reindex(columns=model.feature_names_in_, fill_value=0)\n",
        "\n",
        "# Predict the MSRP using the trained model\n",
        "predicted_msrp = model.predict(final_vehicle_df)\n",
        "\n",
        "print(f\"Predicted MSRP: ${predicted_msrp[0]:,.2f}\")\n"
      ],
      "metadata": {
        "colab": {
          "base_uri": "https://localhost:8080/"
        },
        "id": "sXrOXCixS1Oq",
        "outputId": "84a7e638-3a18-4040-d061-f08408aa4abe"
      },
      "execution_count": 32,
      "outputs": [
        {
          "output_type": "stream",
          "name": "stdout",
          "text": [
            "Predicted MSRP: $0.00\n"
          ]
        }
      ]
    }
  ]
}